{
 "cells": [
  {
   "cell_type": "markdown",
   "id": "436d9f06-9a4d-4c59-b44a-01649aa0822a",
   "metadata": {},
   "source": [
    "# Tic Tac Toe Keychain\n",
    "\n",
    "SEE: https://medium.com/@thepgb/programming-puzzle-tic-tac-toe-keychain-e247cc8c4ec7"
   ]
  },
  {
   "cell_type": "code",
   "execution_count": 3,
   "id": "946be90b-ff33-4033-bb68-5043bc1c9510",
   "metadata": {},
   "outputs": [
    {
     "name": "stdout",
     "output_type": "stream",
     "text": [
      "...\n",
      "...\n",
      "...\n",
      "\n",
      "...\n",
      ".x.\n",
      "..o\n"
     ]
    }
   ],
   "source": [
    "def board2str(board):\n",
    "  return '\\n'.join(''.join(_) for _ in board)\n",
    "\n",
    "board = [['.'] * 3, ['.'] * 3, ['.'] * 3]\n",
    "print(board2str(board))\n",
    "\n",
    "board[1][1] = 'x'\n",
    "board[2][2] = 'o'\n",
    "print('\\n' + board2str(board))"
   ]
  },
  {
   "cell_type": "code",
   "execution_count": 4,
   "id": "39efbc12-63f5-4a44-a4ec-a0253767632b",
   "metadata": {},
   "outputs": [
    {
     "name": "stdout",
     "output_type": "stream",
     "text": [
      "\n",
      "...\n",
      ".x.\n",
      "..o\n",
      "is_final_state: False\n",
      "\n",
      "..x\n",
      "..x\n",
      "..x\n",
      "is_final_state: True\n",
      "\n",
      "o.x\n",
      ".ox\n",
      "..o\n",
      "is_final_state: True\n",
      "\n",
      "xoo\n",
      "oxx\n",
      "xxo\n",
      "is_final_state: True\n"
     ]
    }
   ],
   "source": [
    "def is_final_state(board):\n",
    "  if sum(board[r][c] != '.' for r in range(3) for c in range(3)) == 9:\n",
    "    # All spaces filled.\n",
    "    return True\n",
    "\n",
    "  for win in ('x', 'o'):\n",
    "    # Check wins along a row.\n",
    "    for r in range(3):\n",
    "      if all(piece == win for piece in board[r]):\n",
    "        return True\n",
    "\n",
    "    # Check wins along a column.\n",
    "    for c in range(3):\n",
    "      if all(board[r][c] == win for r in range(3)):\n",
    "        return True\n",
    "\n",
    "    # Check diagonals.\n",
    "    if board[0][0] == win and board[1][1] == win and board[2][2] == win:\n",
    "      return True\n",
    "    if board[0][2] == win and board[1][1] == win and board[2][0] == win:\n",
    "      return True\n",
    "\n",
    "  return False\n",
    "\n",
    "for board in [\n",
    "    [\n",
    "      list('...'),\n",
    "      list('.x.'),\n",
    "      list('..o'),\n",
    "    ],\n",
    "    [\n",
    "      list('..x'),\n",
    "      list('..x'),\n",
    "      list('..x'),\n",
    "    ],\n",
    "    [\n",
    "      list('o.x'),\n",
    "      list('.ox'),\n",
    "      list('..o'),\n",
    "    ],\n",
    "    [\n",
    "      list('xoo'),\n",
    "      list('oxx'),\n",
    "      list('xxo'),\n",
    "    ]\n",
    "]:\n",
    "    print('\\n' + board2str(board))\n",
    "    print('is_final_state:', is_final_state(board))"
   ]
  },
  {
   "cell_type": "code",
   "execution_count": 5,
   "id": "b3fd5849-5c9c-4874-84df-c698c2306a60",
   "metadata": {},
   "outputs": [
    {
     "name": "stdout",
     "output_type": "stream",
     "text": [
      "\n",
      "oxx\n",
      ".ox\n",
      "...\n",
      "\n",
      "o.x\n",
      "xox\n",
      "...\n",
      "\n",
      "o.x\n",
      ".ox\n",
      "x..\n",
      "\n",
      "o.x\n",
      ".ox\n",
      ".x.\n",
      "\n",
      "o.x\n",
      ".ox\n",
      "..x\n"
     ]
    }
   ],
   "source": [
    "def next_states(board):\n",
    "  next_piece = 'x' if sum(board[r][c] != '.' for r in range(3) for c in range(3)) % 2 == 0 else 'o'\n",
    "  for r in range(3):\n",
    "    for c in range(3):\n",
    "      if board[r][c] == '.':\n",
    "        next_board = [row.copy() for row in board]\n",
    "        next_board[r][c] = next_piece\n",
    "        yield next_board\n",
    "\n",
    "\n",
    "for next_board in next_states([\n",
    "  list('o.x'),\n",
    "  list('.ox'),\n",
    "  list('...'),\n",
    "]):\n",
    "  print('\\n' + board2str(next_board))"
   ]
  },
  {
   "cell_type": "code",
   "execution_count": 6,
   "id": "13af2dc3-d9bd-4f76-9e1d-ae8412241988",
   "metadata": {},
   "outputs": [
    {
     "name": "stdout",
     "output_type": "stream",
     "text": [
      "Num valids: 549946 took: 5.915194034576416 s\n"
     ]
    }
   ],
   "source": [
    "def dfs(board, valids):\n",
    "  valids.append([row.copy() for row in board])\n",
    "  if not is_final_state(board):\n",
    "    for next_board in next_states(board):\n",
    "      dfs(next_board, valids)\n",
    "\n",
    "import time\n",
    "\n",
    "valids = []\n",
    "start_time = time.time()\n",
    "dfs([['.'] * 3 for _ in range(3)], valids)\n",
    "stop_time = time.time()\n",
    "print('Num valids:', len(valids), 'took:', stop_time - start_time, 's')"
   ]
  },
  {
   "cell_type": "code",
   "execution_count": 7,
   "id": "9414588c-fd58-4410-8414-0ad48628a5d3",
   "metadata": {},
   "outputs": [
    {
     "name": "stdout",
     "output_type": "stream",
     "text": [
      "Num valids: 5478 took: 0.08420372009277344 s\n"
     ]
    }
   ],
   "source": [
    "def dfs2(board, valids):\n",
    "  board_str = board2str(board)\n",
    "  if board_str not in valids:\n",
    "    valids.add(board_str)\n",
    "    if not is_final_state(board):\n",
    "      for next_board in next_states(board):\n",
    "        dfs2(next_board, valids)\n",
    "\n",
    "import time\n",
    "\n",
    "valids = set()\n",
    "start_time = time.time()\n",
    "dfs2([['.'] * 3 for _ in range(3)], valids)\n",
    "stop_time = time.time()\n",
    "print('Num valids:', len(valids), 'took:', stop_time - start_time, 's')"
   ]
  },
  {
   "cell_type": "code",
   "execution_count": 8,
   "id": "06415847-05c2-44bb-ad8d-7035523828b5",
   "metadata": {},
   "outputs": [
    {
     "name": "stdout",
     "output_type": "stream",
     "text": [
      "Valids: 19683\n"
     ]
    }
   ],
   "source": [
    "def dfs3(cells, valids):\n",
    "  if len(cells) == 9:\n",
    "    board = [cells[:3], cells[3:6], cells[6:]]\n",
    "    if is_valid(board):\n",
    "      valids.append([row.copy() for row in board])\n",
    "  else:\n",
    "    dfs3(cells + ['.'], valids)\n",
    "    dfs3(cells + ['x'], valids)\n",
    "    dfs3(cells + ['o'], valids)\n",
    "\n",
    "\n",
    "def is_valid(board):\n",
    "  return True\n",
    "\n",
    "valids_exhaustive = []\n",
    "dfs3([], valids_exhaustive)\n",
    "print('Valids:', len(valids_exhaustive))"
   ]
  },
  {
   "cell_type": "code",
   "execution_count": 9,
   "id": "d46c9675-282b-4fd8-92d0-1714b139b84e",
   "metadata": {},
   "outputs": [
    {
     "name": "stdout",
     "output_type": "stream",
     "text": [
      "X-O count valids: 6046\n"
     ]
    }
   ],
   "source": [
    "def is_valid(board):\n",
    "  num_xs = sum(sum(_ == 'x' for _ in row) for row in board)\n",
    "  num_os = sum(sum(_ == 'o' for _ in row) for row in board)\n",
    "\n",
    "  if (num_xs - num_os) not in (0, 1):\n",
    "    return False\n",
    "\n",
    "  return True\n",
    "\n",
    "valids_xo = []\n",
    "dfs3([], valids_xo)\n",
    "print('X-O count valids:', len(valids_xo))\n"
   ]
  },
  {
   "cell_type": "code",
   "execution_count": 10,
   "id": "942a4648-b052-439e-a635-aaef8db8e9dd",
   "metadata": {},
   "outputs": [
    {
     "name": "stdout",
     "output_type": "stream",
     "text": [
      "X-O count, no double wins valids: 5890\n",
      "{'xxo\\nxoo\\nxo.', 'xxx\\nxoo\\no.o', '.xo\\n.xo\\nox.', '.xx\\nooo\\nx.x', '.xo\\noxo\\n.x.', 'ooo\\nxx.\\nxx.', 'oxo\\nxxx\\noo.', 'oox\\noxo\\nxx.', 'oxo\\nox.\\nxxo', 'o.x\\noxo\\nx..', 'xxx\\noxo\\noo.', 'xx.\\nxoo\\nxoo', 'xoo\\nx..\\nxo.', 'o.x\\n.ox\\nxxo', 'ox.\\n.xo\\n.xo', 'xxx\\n.o.\\no.o', 'o.o\\noox\\nxxx', 'xoo\\nox.\\n..x', 'o.o\\noxo\\nxxx', 'xoo\\nxxo\\nxo.', 'oxx\\no..\\noxx', '.ox\\n.x.\\nxoo', 'oox\\noox\\nx.x', '.ox\\nxxo\\nxoo', 'oo.\\n..o\\nxxx', '.ox\\nxox\\nxo.', 'xoo\\nox.\\noxx', 'xoo\\nxx.\\nxoo', 'oox\\noxo\\nx.x', 'x.o\\n.ox\\noxx', 'oxx\\nxox\\nxoo', 'oo.\\nxxx\\no..', 'oox\\no.x\\nxox', 'ooo\\n.xx\\nx.x', 'xxo\\n..o\\nxxo', 'ox.\\no.x\\noxx', 'o.x\\noxo\\nxxo', 'oo.\\nxxx\\n..o', 'x..\\noxo\\no.x', '.xo\\nxxo\\nx.o', 'oxx\\n.xo\\nxoo', 'xox\\n.xo\\noox', 'x.x\\nxx.\\nooo', 'oxo\\n.oo\\nxxx', 'xoo\\nxo.\\nx..', 'oxo\\no.o\\nxxx', '..x\\noox\\no.x', 'o.o\\nxxx\\noxo', 'xxx\\n.oo\\no..', 'xoo\\noxx\\n.ox', 'ox.\\n.xo\\nox.', 'oxx\\no.x\\nox.', 'x..\\nx.o\\nxoo', '.xo\\nx.o\\nxxo', 'xo.\\n.xo\\no.x', 'xox\\nxox\\n.o.', '.xx\\n.xx\\nooo', 'xoo\\nxxx\\n.oo', 'x.o\\noxo\\n..x', 'oox\\nox.\\nxox', '.o.\\nxxx\\no.o', 'oxx\\n.ox\\noox', 'oxx\\noxo\\n.xo', 'xxx\\noo.\\n.o.', '.oo\\nxoo\\nxxx', 'oxo\\n.xx\\noxo', '.x.\\nox.\\noxo', 'xxx\\noox\\noo.', 'x.o\\nox.\\no.x', '.ox\\no.x\\n.ox', 'oox\\nxxx\\n.oo', 'oo.\\nxxx\\n.o.', 'oox\\nox.\\nx..', '.ox\\noxx\\noox', 'o.x\\nxox\\n.xo', '..x\\noxo\\nxo.', 'xxx\\noox\\n.oo', 'xxo\\nxox\\noox', '..o\\nxxx\\noo.', 'xox\\n.xo\\nxoo', 'x.o\\nx..\\nxoo', 'xxo\\n.xo\\nx.o', 'o.o\\nxxx\\noox', 'oxo\\noo.\\nxxx', '..o\\nxxo\\nxxo', '.x.\\noxo\\nox.', '.xo\\nox.\\n.xo', 'xox\\nx.o\\nxoo', 'oox\\n.ox\\noxx', '.xx\\nooo\\nxx.', 'xox\\noox\\no.x', 'xx.\\nx.x\\nooo', '..x\\noox\\n.ox', 'xo.\\noxo\\n..x', 'xo.\\nxoo\\nxxo', 'oo.\\nxxx\\nxoo', '.oo\\no..\\nxxx', 'oxx\\n.xo\\noxo', 'xoo\\nx.o\\nx..', 'xo.\\n.xo\\n.ox', 'ox.\\nox.\\n.xo', 'ox.\\noxo\\nxxo', 'o.o\\nxxx\\n.o.', 'oo.\\nxxx\\noox', 'oox\\noxx\\nx.o', 'o.x\\nox.\\noxx', 'xxx\\n..o\\noo.', 'xo.\\n.ox\\nxox', '..o\\n.oo\\nxxx', '..o\\noo.\\nxxx', '.o.\\nxxx\\noo.', 'ooo\\n.xx\\nxx.', 'xxo\\n.ox\\nox.', 'o..\\nxxx\\noo.', 'xxo\\n.ox\\no.x', 'oox\\nox.\\nxxo', 'o.x\\nxox\\nx.o', 'ox.\\noxx\\no.x', '.ox\\noxo\\nx..', 'oox\\nxxo\\nxo.', '.ox\\noxx\\nxoo', 'xoo\\nxoo\\nxx.', 'o..\\nxxx\\no.o', 'o..\\nxxx\\n.oo', 'x.o\\nxox\\no.x', 'xxx\\noxo\\no.o', '.xx\\noxo\\nxoo', 'x..\\noxo\\n.ox', 'oox\\nxox\\no.x', '.x.\\n.xo\\noxo', 'xoo\\noxx\\no.x', 'xxo\\nxo.\\no.x', 'x.x\\nx.x\\nooo', 'o..\\noo.\\nxxx', 'xxx\\no.o\\n.o.', 'x.x\\noxo\\nxoo', 'o.o\\nxoo\\nxxx', 'ox.\\nxox\\nx.o', 'oox\\n.xx\\noox', 'xxo\\nxox\\noxo', 'oxx\\noxo\\nxo.', 'oxo\\n.x.\\nox.', 'oxx\\nox.\\nxoo', 'oxx\\nox.\\no.x', 'oxx\\nxoo\\nxxo', 'xxo\\nox.\\noox', 'xoo\\n.xo\\noxx', 'ooo\\n.xx\\n.xx', '.xx\\noxo\\noxo', '.x.\\noxo\\n.xo', '.xx\\nooo\\n.xx', 'oox\\n..x\\n.ox', 'x.o\\nox.\\n.ox', '.oo\\nxxx\\n.o.', 'xo.\\nxxo\\nxoo', 'oox\\nxxx\\no.o', 'ox.\\noxo\\n.x.', 'x..\\nxoo\\nxo.', 'oxx\\n.o.\\nxxo', 'xoo\\nx..\\nx.o', 'xo.\\noxx\\noox', 'xxx\\n.oo\\nxoo', 'xo.\\n.x.\\noox', 'o.x\\noox\\nxox', 'o.x\\n.xo\\nxo.', 'xoo\\nxo.\\nxxo', 'o.x\\n.ox\\n.ox', '.xo\\noxo\\noxx', 'xxx\\n.oo\\noxo', 'o.x\\n.ox\\no.x', 'oxx\\noxo\\nx.o', 'oxx\\nxox\\n..o', 'xoo\\n.xo\\n..x', 'x.o\\noxo\\noxx', 'xxx\\noo.\\noxo', 'oox\\noo.\\nxxx', 'oxo\\noxo\\n.xx', 'xx.\\n.xx\\nooo', 'oxo\\nox.\\n.x.', 'ooo\\nxx.\\nx.x', 'x.o\\n.xo\\n.ox', 'xx.\\noxo\\noox', 'xoo\\nxxo\\no.x', 'oox\\no.o\\nxxx', 'xxo\\nx.o\\n.xo', 'oxx\\nxo.\\nx.o', 'xoo\\nxoo\\nx.x', 'x.o\\nxox\\nxoo', 'oo.\\noxo\\nxxx', 'ox.\\n.ox\\nxxo', 'oox\\n.x.\\nxo.', 'oxx\\noox\\n.ox', 'o.o\\nxxx\\nxoo', 'oox\\nxxo\\nx.o', 'ox.\\nxxo\\noxo', 'ooo\\nx.x\\nx.x', 'o..\\n.oo\\nxxx', 'xo.\\nox.\\n.ox', 'xox\\noxo\\nxo.', 'oox\\nxxx\\noo.', 'xxo\\nxxo\\n..o', '..o\\nxxx\\no.o', '.ox\\nox.\\nxo.', 'oxx\\noox\\nxxo', '.o.\\noo.\\nxxx', 'xo.\\nox.\\no.x', '.oo\\nxxx\\n..o', 'oox\\noxx\\nxo.', '.ox\\no.x\\no.x', 'x..\\n.xo\\noox', 'o.x\\nxox\\noox', '..x\\noxo\\nx.o', '.oo\\nxxx\\noox', 'x.o\\n.xo\\nxxo', '..o\\nxxx\\n.oo', 'o.x\\n.x.\\nxoo', 'x.x\\n.xx\\nooo', 'oox\\n.xo\\nxxo', 'oxo\\noxx\\n.xo', '.oo\\noxo\\nxxx', 'oo.\\noox\\nxxx', 'xxx\\nxoo\\n.oo', 'xxo\\n.xo\\noox', '.oo\\n..o\\nxxx', 'xxo\\nxoo\\noxx', 'xxx\\no..\\noo.', '.o.\\n.oo\\nxxx', 'xxx\\noox\\no.o', 'xo.\\nxox\\n.ox', 'oxo\\n.xo\\n.x.', 'x.x\\nooo\\nxx.', 'oxo\\n.xo\\noxx', 'o.o\\n.o.\\nxxx', 'ox.\\nxo.\\nxxo', 'oxx\\nxox\\noxo', 'xxo\\nox.\\noxo', 'xxx\\noo.\\n..o', 'o..\\noxx\\noxx', 'xoo\\nxxx\\noo.', 'xxx\\no.o\\noxo', 'oxx\\noxx\\no..', 'oxo\\nxxx\\n.oo', '.xo\\nox.\\nox.', 'oxx\\n.ox\\n.xo', 'x.o\\n.xo\\no.x', 'xoo\\nxox\\nx.o', 'xxx\\noxo\\n.oo', 'oxo\\n.x.\\n.xo', 'xxx\\n..o\\n.oo', 'oox\\n.xo\\nxox', 'o..\\nxox\\nxxo', 'oxo\\nxxo\\nox.', 'oxo\\noxo\\nxx.', 'x.o\\nxxo\\noox', 'xoo\\nx.o\\nxox', 'oox\\n.xx\\nxoo', '.o.\\no.o\\nxxx', 'x.x\\noxo\\noox', 'xxx\\no.o\\no..', 'oxo\\nxxx\\no.o', 'xoo\\n.x.\\n.ox', 'xox\\n.ox\\nxo.', 'x..\\nxo.\\nxoo', 'xoo\\nxx.\\noox', 'xoo\\n.xo\\nxox', 'xxo\\nxo.\\nxoo', '.ox\\n.ox\\no.x', 'oox\\no.x\\n..x', 'x.x\\noox\\noox', 'xo.\\noxo\\noxx', 'oo.\\nxoo\\nxxx', 'xoo\\nx.x\\nxoo', '.xo\\n.ox\\noxx', 'xoo\\noo.\\nxxx', 'xxx\\n.o.\\noo.', 'xo.\\nx.o\\nxo.', '.xo\\noxx\\noxo', '..x\\nox.\\nxoo', 'o.x\\noxx\\nxoo', 'xx.\\nooo\\n.xx', 'xoo\\no.o\\nxxx', 'xxo\\noxo\\no.x', '.oo\\nxxx\\noxo', 'xxo\\noxo\\n.ox', '.ox\\noox\\n..x', 'o.x\\noox\\n..x', 'xxx\\no.o\\nxoo', 'xo.\\nxxo\\noox', 'xxx\\n.oo\\n..o', 'xo.\\nxoo\\nx..', 'xoo\\nxxo\\n.ox', 'xxo\\noxo\\nox.', '.o.\\nxox\\nxox', 'x..\\nox.\\noox', 'x.x\\nooo\\nx.x', '..o\\nxox\\noxx', 'o.x\\nxxo\\nxoo', 'xxx\\noo.\\nxoo', 'xoo\\noxo\\n.xx', 'xox\\noxo\\n.ox', 'o.x\\noxx\\nox.', 'oo.\\n.o.\\nxxx', '.ox\\nxo.\\nxox', 'xoo\\nxox\\noxx', 'xo.\\nxo.\\nx.o', 'o.x\\nox.\\nx.o', '.ox\\n.xo\\nxo.', 'xx.\\nxx.\\nooo', '.xo\\nxox\\nox.', 'x.o\\noxo\\nxox', 'xxx\\n..o\\no.o', 'x.o\\nxoo\\nxox', 'xxo\\nxo.\\nox.', 'oox\\n.ox\\n..x', '.xx\\nxx.\\nooo', 'xox\\nxo.\\n.ox', 'o.x\\nxo.\\nxxo', 'oox\\nxox\\nxxo', '.ox\\nox.\\nx.o', 'xxx\\n.oo\\noox', '.xo\\n.x.\\noxo', 'oxx\\nxo.\\n.xo', '.ox\\noox\\noxx', 'xxx\\noo.\\no..', 'xx.\\nooo\\nxx.', 'xxx\\no.o\\noox', 'o.x\\nox.\\nxo.', 'x.o\\nxo.\\nx.o', 'x.o\\nxxo\\n.xo', 'xox\\no.x\\noox', '.oo\\nxxx\\no..', '.ox\\noxo\\nxox', 'o.x\\n.xo\\nx.o', 'xox\\nox.\\noox', 'x.o\\nxo.\\noxx', 'oxo\\nxox\\noxx', '.ox\\n.xo\\nx.o', 'oox\\n..x\\no.x', 'xxx\\nxoo\\noo.', 'xoo\\n.xx\\noox', 'oox\\noox\\n.xx', 'x.o\\nxo.\\nxo.', 'x.o\\nxox\\nox.', 'x..\\nxoo\\nx.o', 'x.o\\nxoo\\nx..', 'xo.\\nx..\\nxoo', 'ooo\\nx.x\\n.xx', 'oox\\n.oo\\nxxx', 'xoo\\nox.\\nxox', 'ooo\\nx.x\\nxx.', 'o.x\\no.x\\n.ox', 'xxx\\n.o.\\n.oo', 'oox\\noxx\\n.ox', 'o.o\\n..o\\nxxx', 'o.o\\nxxx\\no..', 'xxx\\n.oo\\n.o.', 'xo.\\noxo\\nxox', 'oox\\nxx.\\nxoo', 'xx.\\noxo\\noxo', 'xoo\\n.x.\\no.x', 'xxo\\nxox\\no..', '.xx\\noox\\noox', '.o.\\nxxx\\n.oo', 'xoo\\nxxx\\no.o', 'o.o\\no..\\nxxx', 'xo.\\nx.o\\nx.o', 'o..\\no.o\\nxxx', 'x.o\\nx.o\\nxo.', 'xox\\nox.\\nxoo', 'oxo\\nxox\\nxxo', '.oo\\noox\\nxxx', '..o\\no.o\\nxxx', 'xxx\\no..\\n.oo', 'ooo\\nxx.\\n.xx', 'x.x\\nxoo\\nxoo', 'xxx\\no..\\no.o', 'oo.\\no..\\nxxx', 'xx.\\nooo\\nx.x', '.ox\\n..x\\noox', 'xxo\\noox\\noxx', 'oox\\nx.x\\noox', 'xoo\\n.oo\\nxxx', 'xox\\noxo\\no.x', '.xo\\nxox\\no.x', 'xxo\\n.o.\\noxx', 'oxx\\n.ox\\nx.o', 'xox\\noxo\\nx.o', 'xox\\n.o.\\nxox', 'x.o\\noxx\\noox', 'o.o\\nxxx\\n..o', 'o.x\\n..x\\noox', 'xxx\\noo.\\noox', '.oo\\nxxx\\nxoo', 'ox.\\n.x.\\noxo', 'x.o\\n.x.\\noox', '.oo\\n.o.\\nxxx', 'xxx\\no.o\\n..o', 'x.x\\nooo\\n.xx', 'oox\\n.x.\\nx.o', '.ox\\noxo\\nxxo', 'oo.\\nxxx\\noxo', '.xo\\nxo.\\noxx', 'ox.\\nxox\\n.xo', 'o.x\\noxo\\nxox', 'oox\\n.xo\\nx..', 'oxo\\nxx.\\noxo', '..x\\n.xo\\nxoo', '..x\\n.ox\\noox', '.xx\\nx.x\\nooo', '..x\\no.x\\noox', 'xoo\\noxo\\nx.x', 'xox\\nxoo\\nx.o'}\n"
     ]
    }
   ],
   "source": [
    "def check_wins(board, win):\n",
    "  win_positions = set()\n",
    "\n",
    "  # Check wins along a row.\n",
    "  for r in range(3):\n",
    "    if all(piece == win for piece in board[r]):\n",
    "      win_positions.update([(r, c) for c in range(3)])\n",
    "\n",
    "  # Check wins along a column.\n",
    "  for c in range(3):\n",
    "    if all(board[r][c] == win for r in range(3)):\n",
    "      win_positions.update([(r, c) for r in range(3)])\n",
    "\n",
    "  # Check diagonals.\n",
    "  if board[0][0] == win and board[1][1] == win and board[2][2] == win:\n",
    "    win_positions.update([(0, 0), (1, 1), (2, 2)])\n",
    "  if board[0][2] == win and board[1][1] == win and board[2][0] == win:\n",
    "    win_positions.update([(0, 2), (1, 1), (2, 0)])\n",
    "\n",
    "  return win_positions\n",
    "\n",
    "\n",
    "def is_valid(board):\n",
    "  num_xs = sum(sum(_ == 'x' for _ in row) for row in board)\n",
    "  num_os = sum(sum(_ == 'o' for _ in row) for row in board)\n",
    "\n",
    "  if (num_xs - num_os) not in (0, 1):\n",
    "    return False\n",
    "\n",
    "  x_wins = check_wins(board, 'x')\n",
    "  o_wins = check_wins(board, 'o')\n",
    "  if x_wins and o_wins:\n",
    "    return False\n",
    "\n",
    "  return True\n",
    "\n",
    "valids_xo_double_win = []\n",
    "dfs3([], valids_xo_double_win)\n",
    "print('X-O count, no double wins valids:', len(valids_xo_double_win))\n",
    "print(set(map(board2str, valids_xo_double_win)) - valids)"
   ]
  },
  {
   "cell_type": "code",
   "execution_count": 11,
   "id": "e416dbff-f2ab-499d-a183-65cee3491b90",
   "metadata": {},
   "outputs": [
    {
     "name": "stdout",
     "output_type": "stream",
     "text": [
      "X-O count, fixed win valids: 5478\n"
     ]
    }
   ],
   "source": [
    "def is_valid(board):\n",
    "  num_xs = sum(sum(_ == 'x' for _ in row) for row in board)\n",
    "  num_os = sum(sum(_ == 'o' for _ in row) for row in board)\n",
    "\n",
    "  if (num_xs - num_os) not in (0, 1):\n",
    "    return False\n",
    "\n",
    "  x_wins = check_wins(board, 'x')\n",
    "  o_wins = check_wins(board, 'o')\n",
    "  if x_wins and o_wins:\n",
    "    return False\n",
    "  if x_wins and num_xs != num_os + 1:\n",
    "    return False\n",
    "  if o_wins and num_xs != num_os:\n",
    "    return False\n",
    "\n",
    "  return True\n",
    "\n",
    "valids_xo_fixed_win = []\n",
    "dfs3([], valids_xo_fixed_win)\n",
    "print('X-O count, fixed win valids:', len(valids_xo_fixed_win))"
   ]
  },
  {
   "cell_type": "code",
   "execution_count": 12,
   "id": "f9f0c4f7-652a-4386-9d43-d00c3c0827d0",
   "metadata": {},
   "outputs": [
    {
     "name": "stdout",
     "output_type": "stream",
     "text": [
      ".ox\n",
      ".x.\n",
      ".xo\n"
     ]
    }
   ],
   "source": [
    "def pos2board(pos):\n",
    "  c = lambda c: 'x' if c == 1 else ('o' if c == 2 else '.')\n",
    "  return [\n",
    "    [c(pos[0]), c(pos[1]), c(pos[2])],\n",
    "    [c(pos[3]), c(pos[4]), c(pos[5])],\n",
    "    [c(pos[6]), c(pos[7]), c(pos[8])],\n",
    "  ]\n",
    "\n",
    "print(board2str(pos2board([0, 2, 1, 0, 1, 0, 0, 1, 2])))"
   ]
  },
  {
   "cell_type": "code",
   "execution_count": 14,
   "id": "d18cfabc-2415-455c-8e11-66167c01bc00",
   "metadata": {},
   "outputs": [
    {
     "name": "stdout",
     "output_type": "stream",
     "text": [
      "Counting valids: 5478\n"
     ]
    }
   ],
   "source": [
    "valid_counting = set()\n",
    "for i in range(3 ** 9):\n",
    "  pos = []\n",
    "  v = i\n",
    "  for j in range(9):\n",
    "    pos.append(i % 3)\n",
    "    i = i // 3\n",
    "\n",
    "  board = pos2board(pos)\n",
    "  if is_valid(board):\n",
    "    valid_counting.add(board2str(board))\n",
    "\n",
    "print('Counting valids:', len(valid_counting))"
   ]
  }
 ],
 "metadata": {
  "kernelspec": {
   "display_name": "Python 3 (ipykernel)",
   "language": "python",
   "name": "python3"
  },
  "language_info": {
   "codemirror_mode": {
    "name": "ipython",
    "version": 3
   },
   "file_extension": ".py",
   "mimetype": "text/x-python",
   "name": "python",
   "nbconvert_exporter": "python",
   "pygments_lexer": "ipython3",
   "version": "3.9.5"
  }
 },
 "nbformat": 4,
 "nbformat_minor": 5
}
